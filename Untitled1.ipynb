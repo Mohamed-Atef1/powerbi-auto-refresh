{
 "cells": [
  {
   "cell_type": "code",
   "execution_count": 10,
   "id": "e4965866",
   "metadata": {},
   "outputs": [
    {
     "name": "stdout",
     "output_type": "stream",
     "text": [
      "✅ Zoho Access Token retrieved successfully!\n",
      "❌ Failed to trigger refresh: 403 - \n"
     ]
    }
   ],
   "source": [
    "import requests\n",
    "import json\n",
    "from datetime import datetime\n",
    "\n",
    "# ========================\n",
    "# 1️⃣ Zoho API Credentials\n",
    "# ========================\n",
    "client_id = \"1000.A3WYEEJWFJYUZUXWENEPG8WSCK5J3L\"\n",
    "client_secret = \"ba9a512df0141f214d828e9a3bfb9ffe9fa95db299\"\n",
    "refresh_token = \"1000.e6943f399b78c7d5894de9908b25b732.fbaaefccaa134cabf75915033033d0f8\"\n",
    "org_id = \"877151597\"\n",
    "\n",
    "# ============================\n",
    "# 2️⃣ Power BI Configuration\n",
    "# ============================\n",
    "workspace_id = \"YOUR_WORKSPACE_ID\"\n",
    "dataset_id = \"YOUR_DATASET_ID\"\n",
    "\n",
    "# ==================================\n",
    "# 3️⃣ Get new Zoho Access Token\n",
    "# ==================================\n",
    "token_url = \"https://accounts.zoho.com/oauth/v2/token\"\n",
    "token_params = {\n",
    "    \"refresh_token\": refresh_token,\n",
    "    \"client_id\": client_id,\n",
    "    \"client_secret\": client_secret,\n",
    "    \"grant_type\": \"refresh_token\"\n",
    "}\n",
    "\n",
    "token_response = requests.post(token_url, data=token_params)\n",
    "if token_response.status_code != 200:\n",
    "    raise Exception(f\"Failed to refresh Zoho token: {token_response.text}\")\n",
    "\n",
    "zoho_access_token = token_response.json().get(\"access_token\")\n",
    "print(\"✅ Zoho Access Token retrieved successfully!\")\n",
    "\n",
    "# =======================================\n",
    "# 4️⃣ Refresh Power BI Dataset\n",
    "# =======================================\n",
    "# Power BI REST API endpoint\n",
    "powerbi_url = f\"https://api.powerbi.com/v1.0/myorg/groups/{workspace_id}/datasets/{dataset_id}/refreshes\"\n",
    "\n",
    "# Add Power BI access token (you can use a personal access token or OAuth)\n",
    "# ⚠️ Replace below with your Power BI token or integrate Azure app later\n",
    "powerbi_token = \"YOUR_POWERBI_ACCESS_TOKEN\"\n",
    "\n",
    "headers = {\n",
    "    \"Content-Type\": \"application/json\",\n",
    "    \"Authorization\": f\"Bearer {powerbi_token}\"\n",
    "}\n",
    "\n",
    "body = {\n",
    "    \"notifyOption\": \"MailOnFailure\"\n",
    "}\n",
    "\n",
    "response = requests.post(powerbi_url, headers=headers, json=body)\n",
    "\n",
    "if response.status_code == 202:\n",
    "    print(f\"✅ Dataset refresh triggered successfully at {datetime.now()}\")\n",
    "else:\n",
    "    print(f\"❌ Failed to trigger refresh: {response.status_code} - {response.text}\")\n"
   ]
  },
  {
   "cell_type": "code",
   "execution_count": 16,
   "id": "f0814bc5",
   "metadata": {},
   "outputs": [
    {
     "name": "stdout",
     "output_type": "stream",
     "text": [
      "✅ Using cached Zoho access token\n",
      "✅ Access token: None\n"
     ]
    }
   ],
   "source": [
    "import requests\n",
    "import json\n",
    "import os\n",
    "from datetime import datetime, timedelta\n",
    "\n",
    "# ========================\n",
    "# Zoho API Credentials\n",
    "# ========================\n",
    "client_id = \"1000.A3WYEEJWFJYUZUXWENEPG8WSCK5J3L\"\n",
    "client_secret = \"ba9a512df0141f214d828e9a3bfb9ffe9fa95db299\"\n",
    "refresh_token = \"1000.e6943f399b78c7d5894de9908b25b732.fbaaefccaa134cabf75915033033d0f8\"   # ← ضع التوكين هنا\n",
    "org_id = \"877151597\"\n",
    "\n",
    "# Token cache file\n",
    "TOKEN_FILE = \"zoho_token_cache.json\"\n",
    "\n",
    "def get_zoho_token():\n",
    "    # 1️⃣ إذا فيه توكن محفوظ ولسه صالح\n",
    "    if os.path.exists(TOKEN_FILE):\n",
    "        with open(TOKEN_FILE, \"r\") as f:\n",
    "            data = json.load(f)\n",
    "            if datetime.now() < datetime.fromisoformat(data[\"expiry\"]):\n",
    "                print(\"✅ Using cached Zoho access token\")\n",
    "                return data[\"access_token\"]\n",
    "\n",
    "    # 2️⃣ طلب توكن جديد\n",
    "    print(\"🔄 Requesting new Zoho access token...\")\n",
    "    url = \"https://accounts.zoho.com/oauth/v2/token\"\n",
    "    params = {\n",
    "        \"refresh_token\": refresh_token,\n",
    "        \"client_id\": client_id,\n",
    "        \"client_secret\": client_secret,\n",
    "        \"grant_type\": \"refresh_token\"\n",
    "    }\n",
    "\n",
    "    response = requests.post(url, data=params)\n",
    "    print(\"📥 Raw response:\", response.text)  # ← نطبع الرد الأصلي\n",
    "\n",
    "    if response.status_code != 200:\n",
    "        raise Exception(f\"❌ Failed to refresh Zoho token (HTTP {response.status_code}): {response.text}\")\n",
    "\n",
    "    token_data = response.json()\n",
    "    access_token = token_data.get(\"access_token\")\n",
    "\n",
    "    if not access_token:\n",
    "        raise Exception(f\"❌ No access_token found in response: {token_data}\")\n",
    "\n",
    "    # حفظ التوكين لمدة 50 دقيقة\n",
    "    expiry_time = datetime.now() + timedelta(minutes=50)\n",
    "    with open(TOKEN_FILE, \"w\") as f:\n",
    "        json.dump({\"access_token\": access_token, \"expiry\": expiry_time.isoformat()}, f)\n",
    "\n",
    "    print(\"✅ New Zoho access token saved.\")\n",
    "    return access_token\n",
    "\n",
    "# ==================================\n",
    "# اختبار\n",
    "# ==================================\n",
    "token = get_zoho_token()\n",
    "print(\"✅ Access token:\", token)\n"
   ]
  },
  {
   "cell_type": "code",
   "execution_count": 3,
   "id": "7d955b62",
   "metadata": {},
   "outputs": [
    {
     "ename": "NameError",
     "evalue": "name 'access_token' is not defined",
     "output_type": "error",
     "traceback": [
      "\u001b[1;31m---------------------------------------------------------------------------\u001b[0m",
      "\u001b[1;31mNameError\u001b[0m                                 Traceback (most recent call last)",
      "Cell \u001b[1;32mIn[3], line 1\u001b[0m\n\u001b[1;32m----> 1\u001b[0m \u001b[43maccess_token\u001b[49m\n",
      "\u001b[1;31mNameError\u001b[0m: name 'access_token' is not defined"
     ]
    }
   ],
   "source": []
  },
  {
   "cell_type": "code",
   "execution_count": 19,
   "id": "7e879239",
   "metadata": {
    "scrolled": true
   },
   "outputs": [
    {
     "name": "stdout",
     "output_type": "stream",
     "text": [
      "🔄 Requesting new Zoho access token...\n",
      "📥 Raw response: {\"access_token\":\"1000.35cf686a52beb032061b233958c7bd91.d324dfe8fe995ef0915741f4b6554560\",\"scope\":\"ZohoBooks.fullaccess.all\",\"api_domain\":\"https://www.zohoapis.com\",\"token_type\":\"Bearer\",\"expires_in\":3600}\n",
      "✅ New Zoho access token saved.\n",
      "✅ Access token: 1000.35cf686a52beb032061b233958c7bd91.d324dfe8fe995ef0915741f4b6554560\n"
     ]
    }
   ],
   "source": [
    "import requests\n",
    "import json\n",
    "import os\n",
    "from datetime import datetime, timedelta\n",
    "\n",
    "# ========================\n",
    "# Zoho API Credentials\n",
    "# ========================\n",
    "client_id = \"1000.A3WYEEJWFJYUZUXWENEPG8WSCK5J3L\"\n",
    "client_secret = \"ba9a512df0141f214d828e9a3bfb9ffe9fa95db299\"\n",
    "refresh_token = \"1000.e6943f399b78c7d5894de9908b25b732.fbaaefccaa134cabf75915033033d0f8\"   # ← ضع التوكين هنا\n",
    "org_id = \"877151597\"\n",
    "\n",
    "# Token cache file\n",
    "TOKEN_FILE = \"zoho_token_cache.json\"\n",
    "\n",
    "def get_zoho_token():\n",
    "    # 1️⃣ إذا فيه توكن محفوظ ولسه صالح\n",
    "    if os.path.exists(TOKEN_FILE):\n",
    "        with open(TOKEN_FILE, \"r\") as f:\n",
    "            data = json.load(f)\n",
    "            if datetime.now() < datetime.fromisoformat(data[\"expiry\"]):\n",
    "                print(\"✅ Using cached Zoho access token\")\n",
    "                return data[\"access_token\"]\n",
    "\n",
    "    # 2️⃣ طلب توكن جديد\n",
    "    print(\"🔄 Requesting new Zoho access token...\")\n",
    "    url = \"https://accounts.zoho.com/oauth/v2/token\"\n",
    "    params = {\n",
    "        \"refresh_token\": refresh_token,\n",
    "        \"client_id\": client_id,\n",
    "        \"client_secret\": client_secret,\n",
    "        \"grant_type\": \"refresh_token\"\n",
    "    }\n",
    "\n",
    "    response = requests.post(url, data=params)\n",
    "    print(\"📥 Raw response:\", response.text)  # ← نطبع الرد الأصلي\n",
    "\n",
    "    if response.status_code != 200:\n",
    "        raise Exception(f\"❌ Failed to refresh Zoho token (HTTP {response.status_code}): {response.text}\")\n",
    "\n",
    "    token_data = response.json()\n",
    "    access_token = token_data.get(\"access_token\")\n",
    "\n",
    "    if not access_token:\n",
    "        raise Exception(f\"❌ No access_token found in response: {token_data}\")\n",
    "\n",
    "    # حفظ التوكين لمدة 50 دقيقة\n",
    "    expiry_time = datetime.now() + timedelta(minutes=50)\n",
    "    with open(TOKEN_FILE, \"w\") as f:\n",
    "        json.dump({\"access_token\": access_token, \"expiry\": expiry_time.isoformat()}, f)\n",
    "\n",
    "    print(\"✅ New Zoho access token saved.\")\n",
    "    return access_token\n",
    "\n",
    "# ==================================\n",
    "# اختبار\n",
    "# ==================================\n",
    "token = get_zoho_token()\n",
    "print(\"✅ Access token:\", token)\n"
   ]
  },
  {
   "cell_type": "code",
   "execution_count": 20,
   "id": "249ad4c9",
   "metadata": {},
   "outputs": [
    {
     "ename": "SyntaxError",
     "evalue": "invalid syntax (2205563367.py, line 1)",
     "output_type": "error",
     "traceback": [
      "\u001b[1;36m  Cell \u001b[1;32mIn[20], line 1\u001b[1;36m\u001b[0m\n\u001b[1;33m    jupyter nbconvert --to script your_notebook.ipynb\u001b[0m\n\u001b[1;37m            ^\u001b[0m\n\u001b[1;31mSyntaxError\u001b[0m\u001b[1;31m:\u001b[0m invalid syntax\n"
     ]
    }
   ],
   "source": [
    "jupyter nbconvert --to script your_notebook.ipynb\n"
   ]
  }
 ],
 "metadata": {
  "kernelspec": {
   "display_name": "Python 3 (ipykernel)",
   "language": "python",
   "name": "python3"
  },
  "language_info": {
   "codemirror_mode": {
    "name": "ipython",
    "version": 3
   },
   "file_extension": ".py",
   "mimetype": "text/x-python",
   "name": "python",
   "nbconvert_exporter": "python",
   "pygments_lexer": "ipython3",
   "version": "3.11.5"
  }
 },
 "nbformat": 4,
 "nbformat_minor": 5
}
